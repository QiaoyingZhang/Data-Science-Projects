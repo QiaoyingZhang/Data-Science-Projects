{
 "cells": [
  {
   "cell_type": "markdown",
   "id": "57250c6b-56d9-4c22-83d8-e3d5905f28d0",
   "metadata": {},
   "source": [
    "# Classify Therapy Response By Qiaoying Zhang"
   ]
  },
  {
   "cell_type": "markdown",
   "id": "d69b05b0-8f39-43f9-b41e-c494bd6a8387",
   "metadata": {},
   "source": [
    "## Import Libraries"
   ]
  },
  {
   "cell_type": "code",
   "execution_count": 1,
   "id": "c0cebc0d-570a-45f4-b7d0-6a0001ab1be7",
   "metadata": {},
   "outputs": [],
   "source": [
    "import re\n",
    "import nltk\n",
    "import numpy as np\n",
    "import pandas as pd\n",
    "import matplotlib.pyplot as plt\n",
    "from nltk.corpus import stopwords\n",
    "from nltk.stem.wordnet import WordNetLemmatizer\n",
    "from sklearn.svm import SVC\n",
    "from sklearn.naive_bayes import GaussianNB\n",
    "from sklearn.ensemble import AdaBoostClassifier\n",
    "from sklearn.tree import DecisionTreeClassifier\n",
    "from sklearn.neighbors import KNeighborsClassifier\n",
    "from sklearn.ensemble import RandomForestClassifier\n",
    "from sklearn.linear_model import LogisticRegression\n",
    "from sklearn.model_selection import train_test_split\n",
    "\n",
    "from sklearn.feature_extraction.text import CountVectorizer"
   ]
  },
  {
   "cell_type": "markdown",
   "id": "69a01e24-c093-4a38-afc5-14b0c90f578d",
   "metadata": {},
   "source": [
    "## Loading Data"
   ]
  },
  {
   "cell_type": "code",
   "execution_count": 2,
   "id": "4cffeebf-6cc7-4866-8b3d-7df3983f1e83",
   "metadata": {
    "tags": []
   },
   "outputs": [
    {
     "data": {
      "text/html": [
       "<div>\n",
       "<style scoped>\n",
       "    .dataframe tbody tr th:only-of-type {\n",
       "        vertical-align: middle;\n",
       "    }\n",
       "\n",
       "    .dataframe tbody tr th {\n",
       "        vertical-align: top;\n",
       "    }\n",
       "\n",
       "    .dataframe thead th {\n",
       "        text-align: right;\n",
       "    }\n",
       "</style>\n",
       "<table border=\"1\" class=\"dataframe\">\n",
       "  <thead>\n",
       "    <tr style=\"text-align: right;\">\n",
       "      <th></th>\n",
       "      <th>class</th>\n",
       "      <th>response_text</th>\n",
       "    </tr>\n",
       "  </thead>\n",
       "  <tbody>\n",
       "    <tr>\n",
       "      <th>0</th>\n",
       "      <td>not_flagged</td>\n",
       "      <td>I try and avoid this sort of conflict</td>\n",
       "    </tr>\n",
       "    <tr>\n",
       "      <th>1</th>\n",
       "      <td>flagged</td>\n",
       "      <td>Had a friend open up to me about his mental ad...</td>\n",
       "    </tr>\n",
       "    <tr>\n",
       "      <th>2</th>\n",
       "      <td>flagged</td>\n",
       "      <td>I saved a girl from suicide once. She was goin...</td>\n",
       "    </tr>\n",
       "    <tr>\n",
       "      <th>3</th>\n",
       "      <td>not_flagged</td>\n",
       "      <td>i cant think of one really...i think i may hav...</td>\n",
       "    </tr>\n",
       "    <tr>\n",
       "      <th>4</th>\n",
       "      <td>not_flagged</td>\n",
       "      <td>Only really one friend who doesn't fit into th...</td>\n",
       "    </tr>\n",
       "    <tr>\n",
       "      <th>...</th>\n",
       "      <td>...</td>\n",
       "      <td>...</td>\n",
       "    </tr>\n",
       "    <tr>\n",
       "      <th>75</th>\n",
       "      <td>not_flagged</td>\n",
       "      <td>Now that I've been through it, although i'm no...</td>\n",
       "    </tr>\n",
       "    <tr>\n",
       "      <th>76</th>\n",
       "      <td>flagged</td>\n",
       "      <td>when my best friends mom past away from od'ing...</td>\n",
       "    </tr>\n",
       "    <tr>\n",
       "      <th>77</th>\n",
       "      <td>not_flagged</td>\n",
       "      <td>As a camp counselor I provide stability in kid...</td>\n",
       "    </tr>\n",
       "    <tr>\n",
       "      <th>78</th>\n",
       "      <td>flagged</td>\n",
       "      <td>My now girlfriend used to have serious addicti...</td>\n",
       "    </tr>\n",
       "    <tr>\n",
       "      <th>79</th>\n",
       "      <td>not_flagged</td>\n",
       "      <td>The one person I ever talked to it was because...</td>\n",
       "    </tr>\n",
       "  </tbody>\n",
       "</table>\n",
       "<p>80 rows × 2 columns</p>\n",
       "</div>"
      ],
      "text/plain": [
       "          class                                      response_text\n",
       "0   not_flagged              I try and avoid this sort of conflict\n",
       "1       flagged  Had a friend open up to me about his mental ad...\n",
       "2       flagged  I saved a girl from suicide once. She was goin...\n",
       "3   not_flagged  i cant think of one really...i think i may hav...\n",
       "4   not_flagged  Only really one friend who doesn't fit into th...\n",
       "..          ...                                                ...\n",
       "75  not_flagged  Now that I've been through it, although i'm no...\n",
       "76      flagged  when my best friends mom past away from od'ing...\n",
       "77  not_flagged  As a camp counselor I provide stability in kid...\n",
       "78      flagged  My now girlfriend used to have serious addicti...\n",
       "79  not_flagged  The one person I ever talked to it was because...\n",
       "\n",
       "[80 rows x 2 columns]"
      ]
     },
     "execution_count": 2,
     "metadata": {},
     "output_type": "execute_result"
    }
   ],
   "source": [
    "data = pd.read_csv('Sheet_1.csv', encoding='latin1')\n",
    "data = pd.concat([data['class'],data['response_text']], axis=1)\n",
    "\n",
    "data.dropna(axis=0, inplace =True) # clean data\n",
    "\n",
    "data"
   ]
  },
  {
   "cell_type": "markdown",
   "id": "5659f7f9-925a-4e92-833a-4a8e9d8a5d40",
   "metadata": {},
   "source": [
    "## Binary Labeling"
   ]
  },
  {
   "cell_type": "code",
   "execution_count": 3,
   "id": "dd871cf4-38b7-494b-87a9-87fb3f45dd73",
   "metadata": {},
   "outputs": [
    {
     "data": {
      "text/html": [
       "<div>\n",
       "<style scoped>\n",
       "    .dataframe tbody tr th:only-of-type {\n",
       "        vertical-align: middle;\n",
       "    }\n",
       "\n",
       "    .dataframe tbody tr th {\n",
       "        vertical-align: top;\n",
       "    }\n",
       "\n",
       "    .dataframe thead th {\n",
       "        text-align: right;\n",
       "    }\n",
       "</style>\n",
       "<table border=\"1\" class=\"dataframe\">\n",
       "  <thead>\n",
       "    <tr style=\"text-align: right;\">\n",
       "      <th></th>\n",
       "      <th>class</th>\n",
       "      <th>response_text</th>\n",
       "    </tr>\n",
       "  </thead>\n",
       "  <tbody>\n",
       "    <tr>\n",
       "      <th>0</th>\n",
       "      <td>0</td>\n",
       "      <td>I try and avoid this sort of conflict</td>\n",
       "    </tr>\n",
       "    <tr>\n",
       "      <th>1</th>\n",
       "      <td>1</td>\n",
       "      <td>Had a friend open up to me about his mental ad...</td>\n",
       "    </tr>\n",
       "    <tr>\n",
       "      <th>2</th>\n",
       "      <td>1</td>\n",
       "      <td>I saved a girl from suicide once. She was goin...</td>\n",
       "    </tr>\n",
       "    <tr>\n",
       "      <th>3</th>\n",
       "      <td>0</td>\n",
       "      <td>i cant think of one really...i think i may hav...</td>\n",
       "    </tr>\n",
       "    <tr>\n",
       "      <th>4</th>\n",
       "      <td>0</td>\n",
       "      <td>Only really one friend who doesn't fit into th...</td>\n",
       "    </tr>\n",
       "  </tbody>\n",
       "</table>\n",
       "</div>"
      ],
      "text/plain": [
       "   class                                      response_text\n",
       "0      0              I try and avoid this sort of conflict\n",
       "1      1  Had a friend open up to me about his mental ad...\n",
       "2      1  I saved a girl from suicide once. She was goin...\n",
       "3      0  i cant think of one really...i think i may hav...\n",
       "4      0  Only really one friend who doesn't fit into th..."
      ]
     },
     "execution_count": 3,
     "metadata": {},
     "output_type": "execute_result"
    }
   ],
   "source": [
    "data['class'] = [1 if c == 'flagged' else 0 for c in data['class']]\n",
    "\n",
    "data.head()"
   ]
  },
  {
   "cell_type": "code",
   "execution_count": 4,
   "id": "ae984db1-3c79-4ec2-8e12-b701fadc4d44",
   "metadata": {},
   "outputs": [
    {
     "data": {
      "text/plain": [
       "class\n",
       "0    55\n",
       "1    25\n",
       "Name: count, dtype: int64"
      ]
     },
     "execution_count": 4,
     "metadata": {},
     "output_type": "execute_result"
    }
   ],
   "source": [
    "class_count = data['class'].value_counts()\n",
    "class_count"
   ]
  },
  {
   "cell_type": "code",
   "execution_count": 5,
   "id": "94024151-9af2-4445-9900-14f4f732de1e",
   "metadata": {},
   "outputs": [
    {
     "data": {
      "image/png": "[encoded data removed]",
      "text/plain": [
       "<Figure size 400x400 with 1 Axes>"
      ]
     },
     "metadata": {},
     "output_type": "display_data"
    }
   ],
   "source": [
    "explode = (0, 0.1)\n",
    "label = class_count.values\n",
    "count = class_count.index\n",
    "\n",
    "# Visualize response distribution\n",
    "fig, ax = plt.subplots(figsize=(4,4))\n",
    "ax.pie(label, explode=explode, labels=count, autopct='%1.1f%%', radius=0.75,\n",
    "        shadow=True, startangle=90, colors=['#dbffdb', '#ff9999'])\n",
    "ax.set_title('Response Binary Label Distribution')\n",
    "\n",
    "plt.show()"
   ]
  },
  {
   "cell_type": "markdown",
   "id": "5f339538-25e0-4be4-af58-4070288d2b5b",
   "metadata": {},
   "source": [
    "## Vectorize Simplified Text"
   ]
  },
  {
   "cell_type": "code",
   "execution_count": 6,
   "id": "5d93782c-8f6c-44f5-b141-32ee44ee9aa4",
   "metadata": {},
   "outputs": [],
   "source": [
    "def simplify(text):\n",
    "    # simplify and remove irrelevant words\n",
    "    result = re.sub('[^a-zA-Z]',' ', text).lower() # remove non-letter characters\n",
    "    result = nltk.word_tokenize(result)\n",
    "    result = [w for w in result if not w in set(stopwords.words('english'))]\n",
    "    \n",
    "    # lemmatization\n",
    "    lemmatizer = WordNetLemmatizer()\n",
    "    result = (lemmatizer.lemmatize(lemmatizer.lemmatize(lemmatizer.lemmatize(w, 'n'), pos='v'), pos='a') for w in result)\n",
    "    \n",
    "    return ' '.join(result)"
   ]
  },
  {
   "cell_type": "code",
   "execution_count": 7,
   "id": "29711df8-3fcc-40f8-9afe-12d332282240",
   "metadata": {},
   "outputs": [
    {
     "data": {
      "text/plain": [
       "['try avoid sort conflict',\n",
       " 'friend open mental addiction weed take life make depress',\n",
       " 'save girl suicide go swallow bunch pill talk calm love way',\n",
       " 'cant think one really think may indirectly',\n",
       " 'really one friend fit category therapist call spiral anyway pretty much call time frustrate something boyfriend ask logical would fight would call crazy ask ok say please say hand remote',\n",
       " 'couple year ago friend go switch school low self esteem help overcome shit',\n",
       " 'roommate go death loss gf anything get bedroom',\n",
       " 'couple friend could say friend quite severe depression emotional problem help eventually relationship start suffer result personal problem',\n",
       " 'listen someone talk relationship trouble offer advice personal experience',\n",
       " 'always listen comfort sister lose virgity night walk boyfriend cut parent find throw house part simply bring supportive focus']"
      ]
     },
     "execution_count": 7,
     "metadata": {},
     "output_type": "execute_result"
    }
   ],
   "source": [
    "simple_txt = []\n",
    "\n",
    "for t in data.response_text:\n",
    "    simple_txt.append(simplify(t))\n",
    "    \n",
    "simple_txt[:10]"
   ]
  },
  {
   "cell_type": "code",
   "execution_count": 8,
   "id": "3bfc6b95-cecb-46d0-90d8-4a1822ea448a",
   "metadata": {},
   "outputs": [
    {
     "name": "stdout",
     "output_type": "stream",
     "text": [
      "Top 100 Most Used Words: ['addiction' 'advice' 'alone' 'always' 'anxiety' 'anything' 'back' 'best'\n",
      " 'bring' 'call' 'care' 'come' 'comfort' 'could' 'deal' 'depression'\n",
      " 'describe' 'dont' 'end' 'even' 'everything' 'experience' 'face' 'feel'\n",
      " 'find' 'friend' 'get' 'gf' 'girl' 'girlfriend' 'give' 'go' 'good' 'grade'\n",
      " 'happen' 'help' 'helpful' 'issue' 'kid' 'kill' 'know' 'last' 'let' 'life'\n",
      " 'like' 'listen' 'little' 'look' 'lot' 'make' 'many' 'may' 'much' 'need'\n",
      " 'never' 'night' 'offer' 'often' 'one' 'open' 'others' 'people' 'person'\n",
      " 'personal' 'pretty' 'problem' 'really' 'relationship' 'say' 'school'\n",
      " 'see' 'self' 'severe' 'share' 'shit' 'similar' 'simply' 'situation'\n",
      " 'someone' 'sometimes' 'start' 'struggle' 'stuff' 'suicide' 'support'\n",
      " 'talk' 'tell' 'think' 'though' 'time' 'trouble' 'try' 'use' 'want' 'way'\n",
      " 'week' 'well' 'work' 'would' 'year']\n"
     ]
    }
   ],
   "source": [
    "max_features = 100\n",
    "vectorizer = CountVectorizer(max_features=max_features)\n",
    "X = vectorizer.fit_transform(simple_txt).toarray()\n",
    "y = data.iloc[:, 0].values\n",
    "features = vectorizer.get_feature_names_out()\n",
    "\n",
    "print('Top {} Most Used Words: {}'.format(max_features, features))"
   ]
  },
  {
   "cell_type": "code",
   "execution_count": 9,
   "id": "a1fd4686-6088-47ca-8942-bced21628f4d",
   "metadata": {},
   "outputs": [
    {
     "name": "stdout",
     "output_type": "stream",
     "text": [
      "\u001b[1mLongest response: \u001b[0m\n"
     ]
    },
    {
     "data": {
      "text/html": [
       "<div>\n",
       "<style scoped>\n",
       "    .dataframe tbody tr th:only-of-type {\n",
       "        vertical-align: middle;\n",
       "    }\n",
       "\n",
       "    .dataframe tbody tr th {\n",
       "        vertical-align: top;\n",
       "    }\n",
       "\n",
       "    .dataframe thead th {\n",
       "        text-align: right;\n",
       "    }\n",
       "</style>\n",
       "<table border=\"1\" class=\"dataframe\">\n",
       "  <thead>\n",
       "    <tr style=\"text-align: right;\">\n",
       "      <th></th>\n",
       "      <th>class</th>\n",
       "      <th>response_text</th>\n",
       "    </tr>\n",
       "  </thead>\n",
       "  <tbody>\n",
       "    <tr>\n",
       "      <th>48</th>\n",
       "      <td>1</td>\n",
       "      <td>I had a friend that would go off about girls a...</td>\n",
       "    </tr>\n",
       "  </tbody>\n",
       "</table>\n",
       "</div>"
      ],
      "text/plain": [
       "    class                                      response_text\n",
       "48      1  I had a friend that would go off about girls a..."
      ]
     },
     "execution_count": 9,
     "metadata": {},
     "output_type": "execute_result"
    }
   ],
   "source": [
    "lengths = data.response_text.str.len()\n",
    "argmax = np.where(lengths == lengths.max())[0]\n",
    "\n",
    "# visualize the longest response from train data\n",
    "print('\\033[1m' + 'Longest response: ' + '\\033[0m')\n",
    "data.iloc[argmax]"
   ]
  },
  {
   "cell_type": "code",
   "execution_count": 10,
   "id": "7320623a-41fd-4c0d-8978-fbb4c247a846",
   "metadata": {},
   "outputs": [
    {
     "data": {
      "text/plain": [
       "'friend would go girl get super depress tell go kill one night drive n hour half go look cop already take hospital friend go hang also help try talk another person hadnt friend year cause stuff call blue thankgiving last year call back get hospital number know something end kid friend year huge douche psych ward try kill get hold talk whenever would call would answer even though still shit year early mind people might want around situation like people goal purpose life sustain survival help make people life little bite good make people laugh sad help people nobody else basically treat human even strange respect kindness friend people need sometime let people talk shit offer helpful advice still swim shit enough keep go keep little light end tunnel switch idk long last till flicker'"
      ]
     },
     "execution_count": 10,
     "metadata": {},
     "output_type": "execute_result"
    }
   ],
   "source": [
    "simple_txt[48]"
   ]
  },
  {
   "cell_type": "code",
   "execution_count": 11,
   "id": "5098ab15-87e9-43fe-9bef-a8714bd33b39",
   "metadata": {},
   "outputs": [
    {
     "name": "stdout",
     "output_type": "stream",
     "text": [
      "\u001b[1mExample vectorized response: \u001b[0m\n"
     ]
    },
    {
     "data": {
      "text/plain": [
       "array([0, 1, 0, 0, 0, 0, 1, 0, 0, 3, 0, 0, 0, 0, 0, 0, 0, 0, 2, 2, 0, 0,\n",
       "       0, 0, 0, 5, 3, 0, 1, 0, 0, 5, 1, 0, 0, 3, 1, 0, 1, 2, 1, 2, 1, 2,\n",
       "       1, 0, 2, 1, 0, 2, 0, 0, 0, 1, 0, 1, 1, 0, 1, 0, 0, 7, 1, 0, 0, 0,\n",
       "       0, 0, 0, 0, 0, 0, 0, 0, 3, 0, 0, 1, 0, 0, 0, 0, 1, 0, 0, 3, 1, 0,\n",
       "       1, 0, 0, 2, 0, 1, 0, 0, 0, 0, 3, 4], dtype=int64)"
      ]
     },
     "execution_count": 11,
     "metadata": {},
     "output_type": "execute_result"
    }
   ],
   "source": [
    "print('\\033[1m' + 'Example vectorized response: ' + '\\033[0m')\n",
    "X[48]"
   ]
  },
  {
   "cell_type": "markdown",
   "id": "c62bd974-74e1-459a-85ea-fb63c996c3c7",
   "metadata": {},
   "source": [
    "## Train Model (Accuracy Comparison)"
   ]
  },
  {
   "cell_type": "code",
   "execution_count": 12,
   "id": "5a19cb72-6c03-4c96-9c79-1bcf161fd6fe",
   "metadata": {},
   "outputs": [
    {
     "name": "stdout",
     "output_type": "stream",
     "text": [
      "\u001b[1mDimension of X: (80, 100), Dimension of y: (80,)\u001b[0m\n"
     ]
    }
   ],
   "source": [
    "print('\\033[1m' + 'Dimension of X: {}, Dimension of y: {}'.format(X.shape, y.shape) + '\\033[0m')"
   ]
  },
  {
   "cell_type": "code",
   "execution_count": 13,
   "id": "15db494e-df08-4494-9928-567d4527d15a",
   "metadata": {},
   "outputs": [],
   "source": [
    "# train test split\n",
    "x_train, x_test, y_train, y_test = train_test_split(X, y, test_size=0.2, random_state=42)"
   ]
  },
  {
   "cell_type": "code",
   "execution_count": 14,
   "id": "3cc64ec5-ebc3-4299-bf22-d49f532b9c59",
   "metadata": {},
   "outputs": [],
   "source": [
    "clf_lst = ['Soft Vector Machine', 'Naive Bayes', 'AdaBoost', 'Decision Tree', 'KNN', 'Random Forest', 'Logistic Regression']\n",
    "accuracies = []"
   ]
  },
  {
   "cell_type": "markdown",
   "id": "86a59ea7-b7be-40e4-be4f-03afc123d29d",
   "metadata": {},
   "source": [
    "### <font color='magenta'><b>Soft Vector Machine(SVM)</b></font>\r\n",
    "Support Vector Machine (SVM) is a machine learning algorithm that finds the optimal hyperplane to separate data into distinct classes while maximizing the margin between them."
   ]
  },
  {
   "cell_type": "code",
   "execution_count": 15,
   "id": "c9f5cc16-2677-440c-89be-27db04ecc84b",
   "metadata": {},
   "outputs": [
    {
     "name": "stdout",
     "output_type": "stream",
     "text": [
      "Soft Vector Machine Accuracy: 0.81\n"
     ]
    }
   ],
   "source": [
    "svm = SVC()\n",
    "svm.fit(x_train, y_train)\n",
    "accuracy_svm = svm.score(x_test, y_test)\n",
    "accuracies.append(accuracy_svm)\n",
    "print('Soft Vector Machine Accuracy: {:.2f}'.format(accuracy_svm))"
   ]
  },
  {
   "cell_type": "markdown",
   "id": "a354239b-faa4-4757-b035-f8a7dc1497c4",
   "metadata": {},
   "source": [
    "### <font color='magenta'><b>Naive Bayes</b></font>\n",
    "Naive Bayes is a probabilistic machine learning algorithm that applies Bayes' theorem with the \"naive\" assumption of independence among features to classify data into different categories or classes based on the likelihood of observed features."
   ]
  },
  {
   "cell_type": "code",
   "execution_count": 16,
   "id": "1f8720da-c011-45ca-842d-27b1101160a7",
   "metadata": {},
   "outputs": [
    {
     "name": "stdout",
     "output_type": "stream",
     "text": [
      "Gaussian Naive Bayes Accuracy: 0.75\n"
     ]
    }
   ],
   "source": [
    "nb = GaussianNB()\n",
    "nb.fit(x_train, y_train)\n",
    "accuracy_nb = nb.score(x_test, y_test)\n",
    "accuracies.append(accuracy_nb)\n",
    "print('Gaussian Naive Bayes Accuracy: {:.2f}'.format(accuracy_nb))"
   ]
  },
  {
   "cell_type": "markdown",
   "id": "080e507e-1752-49b5-a2ec-d1ee8d53b1b7",
   "metadata": {
    "tags": []
   },
   "source": [
    "### <font color='magenta'><b>AdaBoost</b></font>\r\n",
    "AdaBoost, or Adaptive Boosting, is an ensemble machine learning technique that combines multiple weak learners into a strong learner by assigning varying weights to data points, focusing on difficult-to-classify examples during each iteration to improve classification accuracy."
   ]
  },
  {
   "cell_type": "code",
   "execution_count": 17,
   "id": "2130861b-572a-4f4c-9668-0b99d0cb571b",
   "metadata": {},
   "outputs": [
    {
     "name": "stdout",
     "output_type": "stream",
     "text": [
      "AdaBoost Accuracy: 0.75\n"
     ]
    }
   ],
   "source": [
    "ab = AdaBoostClassifier(n_estimators=100, random_state=0)\n",
    "ab.fit(x_train, y_train)\n",
    "accuracy_ab = nb.score(x_test, y_test)\n",
    "accuracies.append(accuracy_ab)\n",
    "print('AdaBoost Accuracy: {:.2f}'.format(accuracy_nb))"
   ]
  },
  {
   "cell_type": "markdown",
   "id": "32236482-2e1b-45da-82a1-7904753bae44",
   "metadata": {},
   "source": [
    "### <font color='magenta'><b>Decision Tree</b></font>\n",
    "A Decision Tree is a machine learning algorithm that recursively splits data into subsets based on the most significant feature, creating a tree-like structure to make decisions by following a path from the root to a leaf node."
   ]
  },
  {
   "cell_type": "code",
   "execution_count": 18,
   "id": "f5924e8d-d543-408a-a340-e284ef0ff2e9",
   "metadata": {},
   "outputs": [
    {
     "name": "stdout",
     "output_type": "stream",
     "text": [
      "Decision Tree Accuracy: 0.75\n"
     ]
    }
   ],
   "source": [
    "dt = DecisionTreeClassifier()\n",
    "dt.fit(x_train, y_train)\n",
    "accuracy_dt = dt.score(x_test, y_test)\n",
    "accuracies.append(accuracy_dt)\n",
    "print('Decision Tree Accuracy: {:.2f}'.format(accuracy_dt))"
   ]
  },
  {
   "cell_type": "markdown",
   "id": "5e7df5a5-4929-478a-b5c8-a95ee62386ff",
   "metadata": {
    "tags": []
   },
   "source": [
    "### <font color='magenta'><b>K-Nearest Neighbors</b></font>\n",
    "K-Nearest Neighbors (K-NN) is a simple machine learning algorithm that classifies data points based on the majority class of their nearest neighbors in a feature space, making predictions by finding the K closest data points and assigning the class that appears most frequently among them."
   ]
  },
  {
   "cell_type": "code",
   "execution_count": 19,
   "id": "489db4e3-e355-4ca8-9768-edfbd7a80874",
   "metadata": {},
   "outputs": [
    {
     "name": "stdout",
     "output_type": "stream",
     "text": [
      "K-Nearest Neighbors Accuracy: 0.88\n"
     ]
    }
   ],
   "source": [
    "kn = KNeighborsClassifier(n_neighbors=3)\n",
    "kn.fit(x_train, y_train)\n",
    "accuracy_kn = kn.score(x_test, y_test)\n",
    "accuracies.append(accuracy_kn)\n",
    "print('K-Nearest Neighbors Accuracy: {:.2f}'.format(accuracy_kn))"
   ]
  },
  {
   "cell_type": "markdown",
   "id": "36dc5001-e31a-4c0d-98cb-6f2eb830fc9a",
   "metadata": {
    "tags": []
   },
   "source": [
    "### <font color='magenta'><b>Random Forest</b></font>\r\n",
    "Random Forest is an ensemble machine learning method that builds multiple decision trees during training and combines their predictions to improve accuracy and reduce overfitting in classification and regression tasks."
   ]
  },
  {
   "cell_type": "code",
   "execution_count": 20,
   "id": "5bf64870-dfce-4cc1-8566-b291b8e65da1",
   "metadata": {},
   "outputs": [
    {
     "name": "stdout",
     "output_type": "stream",
     "text": [
      "Random Forest Accuracy: 0.81\n"
     ]
    }
   ],
   "source": [
    "rf = RandomForestClassifier()\n",
    "rf.fit(x_train, y_train)\n",
    "accuracy_rf = rf.score(x_test, y_test)\n",
    "accuracies.append(accuracy_rf)\n",
    "print('Random Forest Accuracy: {:.2f}'.format(accuracy_rf))"
   ]
  },
  {
   "cell_type": "markdown",
   "id": "f7d278cf-c82f-4d46-8669-70c839513898",
   "metadata": {},
   "source": [
    "### <font color='magenta'><b>Logistic Regression</b></font>\n",
    "Logistic Regression is a statistical and machine learning model used for binary classification that estimates the probability of a data point belonging to one of two classes by fitting a logistic curve to the data."
   ]
  },
  {
   "cell_type": "code",
   "execution_count": 21,
   "id": "949f2448-331f-4795-815a-d5bd40812316",
   "metadata": {},
   "outputs": [
    {
     "name": "stdout",
     "output_type": "stream",
     "text": [
      "Logistic Regression Accuracy: 0.69\n"
     ]
    }
   ],
   "source": [
    "logreg = LogisticRegression()\n",
    "logreg.fit(x_train, y_train)\n",
    "accuracy_logreg = logreg.score(x_test, y_test)\n",
    "accuracies.append(accuracy_logreg)\n",
    "print('Logistic Regression Accuracy: {:.2f}'.format(accuracy_logreg))"
   ]
  },
  {
   "cell_type": "code",
   "execution_count": 22,
   "id": "360b146b-2f43-432b-a969-11d41502d8dc",
   "metadata": {},
   "outputs": [
    {
     "data": {
      "text/html": [
       "<div>\n",
       "<style scoped>\n",
       "    .dataframe tbody tr th:only-of-type {\n",
       "        vertical-align: middle;\n",
       "    }\n",
       "\n",
       "    .dataframe tbody tr th {\n",
       "        vertical-align: top;\n",
       "    }\n",
       "\n",
       "    .dataframe thead th {\n",
       "        text-align: right;\n",
       "    }\n",
       "</style>\n",
       "<table border=\"1\" class=\"dataframe\">\n",
       "  <thead>\n",
       "    <tr style=\"text-align: right;\">\n",
       "      <th></th>\n",
       "      <th>classifiers</th>\n",
       "      <th>accuracies</th>\n",
       "    </tr>\n",
       "  </thead>\n",
       "  <tbody>\n",
       "    <tr>\n",
       "      <th>6</th>\n",
       "      <td>Logistic Regression</td>\n",
       "      <td>0.6875</td>\n",
       "    </tr>\n",
       "    <tr>\n",
       "      <th>1</th>\n",
       "      <td>Naive Bayes</td>\n",
       "      <td>0.7500</td>\n",
       "    </tr>\n",
       "    <tr>\n",
       "      <th>2</th>\n",
       "      <td>AdaBoost</td>\n",
       "      <td>0.7500</td>\n",
       "    </tr>\n",
       "    <tr>\n",
       "      <th>3</th>\n",
       "      <td>Decision Tree</td>\n",
       "      <td>0.7500</td>\n",
       "    </tr>\n",
       "    <tr>\n",
       "      <th>0</th>\n",
       "      <td>Soft Vector Machine</td>\n",
       "      <td>0.8125</td>\n",
       "    </tr>\n",
       "    <tr>\n",
       "      <th>5</th>\n",
       "      <td>Random Forest</td>\n",
       "      <td>0.8125</td>\n",
       "    </tr>\n",
       "    <tr>\n",
       "      <th>4</th>\n",
       "      <td>KNN</td>\n",
       "      <td>0.8750</td>\n",
       "    </tr>\n",
       "  </tbody>\n",
       "</table>\n",
       "</div>"
      ],
      "text/plain": [
       "           classifiers  accuracies\n",
       "6  Logistic Regression      0.6875\n",
       "1          Naive Bayes      0.7500\n",
       "2             AdaBoost      0.7500\n",
       "3        Decision Tree      0.7500\n",
       "0  Soft Vector Machine      0.8125\n",
       "5        Random Forest      0.8125\n",
       "4                  KNN      0.8750"
      ]
     },
     "execution_count": 22,
     "metadata": {},
     "output_type": "execute_result"
    }
   ],
   "source": [
    "df = pd.DataFrame(dict(classifiers=clf_lst, accuracies=accuracies))\n",
    "df_sorted = df.sort_values('accuracies')\n",
    "\n",
    "df_sorted"
   ]
  },
  {
   "cell_type": "code",
   "execution_count": 23,
   "id": "516837ee-1015-4096-b88e-242c4839f430",
   "metadata": {},
   "outputs": [
    {
     "data": {
      "image/png": "[encoded data removed]",
      "text/plain": [
       "<Figure size 1000x500 with 1 Axes>"
      ]
     },
     "metadata": {},
     "output_type": "display_data"
    }
   ],
   "source": [
    "fig, ax = plt.subplots(figsize=(10, 5))\n",
    "\n",
    "hbars = ax.barh('classifiers', 'accuracies', data=df_sorted, color='orange')\n",
    "ax.bar_label(hbars, label_type='center')\n",
    "ax.set_xlabel('Accuracies')\n",
    "ax.set_title('Accuracies of Different Classifiers On Validation Set')\n",
    "ax.spines[['right', 'top']].set_visible(False)\n",
    "\n",
    "plt.show()"
   ]
  },
  {
   "cell_type": "markdown",
   "id": "b3ceb5d1-f51b-44b3-8128-8202de00b21d",
   "metadata": {
    "tags": []
   },
   "source": [
    "## Test Model"
   ]
  },
  {
   "cell_type": "code",
   "execution_count": 24,
   "id": "6018b52f-014f-44c7-9327-501b157d7fbe",
   "metadata": {},
   "outputs": [
    {
     "data": {
      "text/plain": [
       "['play crucial role resource dear friend find incredibly distress situation drug party lead unwanted pregnancy want suicide try moment become confidant offer non judgmental listen ear empathy emotional support encourage confide family seek professional help guide therapist specialize case together navigate challenge journey towards recovery witness transformation despair hope heal',\n",
       " 'friend tell focus school invite study',\n",
       " 'never resource anyone',\n",
       " 'remember time close friend go tough period depression confide act resource lend listen ear offer support many meaningful conversation person email help navigate emotion find way toward recovery',\n",
       " 'friend offer weed get addict bring specialize hospital',\n",
       " 'friend tell felt small year ago talk good',\n",
       " 'volunteer local shelter opportunity resource several homeless individual offer listen ear provide food shelter help connect relevant social service incredibly reward see regain hope work towards stable life',\n",
       " 'close family member recently experience loss love one able resource provide emotional support share story bring back positive memory offer relief otherwise difficult period',\n",
       " 'time junior college classmate mine deal substance abuse issue reach advice overcome addiction share knowledge connect relevant resource ultimately help embark path recovery']"
      ]
     },
     "execution_count": 24,
     "metadata": {},
     "output_type": "execute_result"
    }
   ],
   "source": [
    "## Bot question: 'Describe a time when you have acted as a resource for someone else'.\n",
    "# corpus contain responses generated by ChatGPT\n",
    "# result should be something like: 1 0 0 1 1 0 0 1 1\n",
    "\n",
    "corpus = [\n",
    "    'I once played a crucial role as a resource for a dear friend who found herself in an incredibly distressing situation. She had been drugged at a party, which led to an unwanted pregnancy and want to suicide. In this trying moment, I became her confidant, offering a non-judgmental listening ear, empathy, and emotional support. I encouraged her to confide in her family and seek professional help, guiding her to a therapist who specialized in such cases. Together, we navigated the challenging journey towards recovery, and I witnessed her transformation from despair to hope and healing.',\n",
    "    'My friend told me she\\'s not focusing in school so I invited her to study with me.',\n",
    "    'I have never been a resource for anyone.',\n",
    "    'I remember a time when a close friend was going through a tough period of depression. They confided in me, and I acted as a resource by lending a listening ear and offering support. We had many meaningful conversations, both in person and over email, to help them navigate their emotions and find a way toward recovery.',\n",
    "    'My friends was offered weed and got addicted, so I had to bring him to a specialized hospital.',\n",
    "    'My friend told me she felt small years ago, we talked and she\\' better now.',\n",
    "    'While volunteering at a local shelter, I had the opportunity to be a resource for several homeless individuals. I offered a listening ear, provided food and shelter, and helped them connect with relevant social services. It was incredibly rewarding to see them regain hope and work towards a more stable life.',\n",
    "    'A close family member recently experienced the loss of a loved one, and I was able to be a resource for them by providing emotional support and sharing stories that brought back positive memories, offering some relief during an otherwise difficult period.',\n",
    "    'During my time as a junior in college, a classmate of mine was dealing with substance abuse issues. They reached out for advice on how to overcome their addiction. I shared my knowledge and connected them with relevant resources, ultimately helping them embark on their path to recovery.'\n",
    "]\n",
    "\n",
    "test_txt = []\n",
    "\n",
    "for t in corpus:\n",
    "    test_txt.append(simplify(t))\n",
    "    \n",
    "test_txt"
   ]
  },
  {
   "cell_type": "code",
   "execution_count": 25,
   "id": "04ae9f32-6a79-4a83-ae8b-849c9f4519e5",
   "metadata": {},
   "outputs": [
    {
     "data": {
      "text/plain": [
       "(9, 100)"
      ]
     },
     "execution_count": 25,
     "metadata": {},
     "output_type": "execute_result"
    }
   ],
   "source": [
    "m = len(test_txt)\n",
    "test_vectors = np.zeros((m, max_features))\n",
    "\n",
    "# vectorize corpus features with respect to train data\n",
    "for i in range(m):\n",
    "    for w in test_txt[i].split():\n",
    "        if w in features:\n",
    "            test_vectors[i][np.where(features == w)] += 1\n",
    "            \n",
    "test_vectors.shape"
   ]
  },
  {
   "cell_type": "markdown",
   "id": "cf486f80-0b63-4b1c-aac9-d7cd4eb10457",
   "metadata": {},
   "source": [
    "## Model Prediction Results"
   ]
  },
  {
   "cell_type": "code",
   "execution_count": 26,
   "id": "6ae822c7-bd0e-47b0-b698-780ef5885e90",
   "metadata": {},
   "outputs": [
    {
     "name": "stdout",
     "output_type": "stream",
     "text": [
      "Soft Vector Machine predictions: [0 0 0 0 0 0 0 0 0]\n",
      "Naive Bayes predictions: [1 0 0 1 0 0 0 1 1]\n",
      "AdaBoost predictions: [1 0 0 1 1 0 0 1 1]\n",
      "Decision Tree predictions: [1 0 0 1 1 0 0 0 1]\n",
      "KNN predictions: [0 0 0 0 0 0 0 0 0]\n",
      "Random Forest predictions: [1 0 0 1 1 0 0 1 1]\n",
      "Logistic Regression predictions: [0 0 0 1 1 0 0 0 0]\n"
     ]
    }
   ],
   "source": [
    "predictions = []\n",
    "\n",
    "# get prediction of corpus from pre-trained model\n",
    "predictions.append(svm.predict(test_vectors))\n",
    "predictions.append(nb.predict(test_vectors))\n",
    "predictions.append(ab.predict(test_vectors))\n",
    "predictions.append(dt.predict(test_vectors))\n",
    "predictions.append(kn.predict(test_vectors))\n",
    "predictions.append(rf.predict(test_vectors))\n",
    "predictions.append(logreg.predict(test_vectors))\n",
    "\n",
    "for i in range(len(predictions)):\n",
    "    print('{} predictions: {}'.format(clf_lst[i], predictions[i]))"
   ]
  },
  {
   "cell_type": "markdown",
   "id": "4487a54e-9e87-43b1-bcda-6b5c127e7a6f",
   "metadata": {},
   "source": [
    "### Accuracy"
   ]
  },
  {
   "cell_type": "code",
   "execution_count": 27,
   "id": "6ac00f8d-97ce-437c-afba-07fd6e488728",
   "metadata": {},
   "outputs": [
    {
     "name": "stdout",
     "output_type": "stream",
     "text": [
      "Soft Vector Machine prediction accuracy: 0.4444444444444444\n",
      "Naive Bayes prediction accuracy: 0.8888888888888888\n",
      "AdaBoost prediction accuracy: 1.0\n",
      "Decision Tree prediction accuracy: 0.8888888888888888\n",
      "KNN prediction accuracy: 0.4444444444444444\n",
      "Random Forest prediction accuracy: 1.0\n",
      "Logistic Regression prediction accuracy: 0.6666666666666666\n"
     ]
    }
   ],
   "source": [
    "result = [1, 0, 0, 1, 1, 0, 0, 1, 1]\n",
    "clf_accuracies = []\n",
    "\n",
    "for i in range(len(predictions)):\n",
    "    correct = predictions[i] == result\n",
    "    clf_accuracies.append(sum(correct)/len(correct))\n",
    "    print('{} prediction accuracy: {}'.format(clf_lst[i], clf_accuracies[i]))"
   ]
  },
  {
   "cell_type": "code",
   "execution_count": 28,
   "id": "502b246d-3727-474f-b185-44516a6f2277",
   "metadata": {},
   "outputs": [
    {
     "data": {
      "image/png": "[encoded data removed]",
      "text/plain": [
       "<Figure size 1000x500 with 1 Axes>"
      ]
     },
     "metadata": {},
     "output_type": "display_data"
    }
   ],
   "source": [
    "df = pd.DataFrame(dict(classifiers=clf_lst, accuracies=clf_accuracies))\n",
    "df_sorted = df.sort_values('accuracies')\n",
    "\n",
    "fig, ax = plt.subplots(figsize=(10, 5))\n",
    "\n",
    "hbars = ax.barh('classifiers', 'accuracies', data=df_sorted, color='red')\n",
    "ax.bar_label(hbars, label_type='center')\n",
    "ax.set_xlabel('Accuracies')\n",
    "ax.set_title('Accuracies of Different Classifiers On Corpus')\n",
    "ax.spines[['right', 'top']].set_visible(False)\n",
    "\n",
    "plt.show()"
   ]
  },
  {
   "cell_type": "markdown",
   "id": "3d58bc4a-e818-47f5-a028-2556461d61a9",
   "metadata": {},
   "source": [
    "## Feature Occurance (Build Personal Classifier)"
   ]
  },
  {
   "cell_type": "code",
   "execution_count": 29,
   "id": "ad6771a7-9605-4f3e-bce9-ad0a5057b4cc",
   "metadata": {},
   "outputs": [],
   "source": [
    "# get word:count dictionary\n",
    "def get_occurance(txt):\n",
    "    res = {features[i]: txt[i] for i in range(max_features)}\n",
    "    return {x:y for x, y in res.items() if y!=0}"
   ]
  },
  {
   "cell_type": "code",
   "execution_count": 30,
   "id": "ff199b46-7418-4973-b680-40052de75c20",
   "metadata": {},
   "outputs": [
    {
     "data": {
      "text/plain": [
       "array([ 5,  2,  2,  2,  5,  2,  4,  5,  1,  3,  2,  3,  3,  3,  4,  7,  2,\n",
       "        0,  3,  2,  3,  3,  2,  0,  4, 24,  9,  2,  3,  2,  2, 14,  3,  1,\n",
       "        2, 14,  2,  4,  1,  4,  2,  3,  2,  5,  3,  3,  2,  2,  0,  5,  3,\n",
       "        1,  3,  3,  1,  3,  2,  0,  5,  1,  0, 11,  2,  3,  1,  2,  0,  1,\n",
       "        3,  5,  1,  2,  3,  2,  3,  1,  3,  1,  0,  0,  2,  1,  2,  3,  3,\n",
       "       11,  2,  4,  3,  3,  1,  8,  4,  3,  3,  0,  1,  1,  6,  6],\n",
       "      dtype=int64)"
      ]
     },
     "execution_count": 30,
     "metadata": {},
     "output_type": "execute_result"
    }
   ],
   "source": [
    "# feature occurance of flagged text from train data\n",
    "ori_flag_txt = sum(sum([X[i] for i in list(np.where(data['class'] == 1))]))\n",
    "ori_flag_feat = get_occurance(ori_flag_txt)\n",
    "ori_flag_txt"
   ]
  },
  {
   "cell_type": "code",
   "execution_count": 31,
   "id": "73d278c3-006b-42d7-8149-25d10fd0903c",
   "metadata": {},
   "outputs": [
    {
     "data": {
      "text/plain": [
       "array([ 0,  3,  1,  6,  0,  1,  1,  2,  2,  4,  2,  6,  0,  1,  2,  0,  1,\n",
       "        3,  0,  3,  0,  2,  2,  9,  1, 27,  4,  1,  5,  3,  3, 10,  4,  2,\n",
       "        1, 19,  2,  4,  3,  0,  7,  0,  4,  6,  1,  9,  1,  2,  6,  2,  2,\n",
       "        2,  3,  6,  3,  0,  1,  3,  4,  4,  3, 11,  1,  1,  2,  7,  5,  2,\n",
       "        2,  3,  2,  1,  0,  1,  3,  2,  1,  4,  7,  4,  1,  4,  3,  0,  1,\n",
       "       14,  3,  7,  1,  4,  3,  6,  1,  3,  2,  3,  4,  2,  3,  2],\n",
       "      dtype=int64)"
      ]
     },
     "execution_count": 31,
     "metadata": {},
     "output_type": "execute_result"
    }
   ],
   "source": [
    "# feature occurance of unflagged text from train data\n",
    "ori_unflag_txt = sum(sum([X[i] for i in list(np.where(data['class'] == 0))]))\n",
    "ori_unflag_feat = get_occurance(ori_unflag_txt)\n",
    "ori_unflag_txt"
   ]
  },
  {
   "cell_type": "code",
   "execution_count": 32,
   "id": "f7957045-316c-4f88-b506-273c5b61f383",
   "metadata": {},
   "outputs": [
    {
     "name": "stdout",
     "output_type": "stream",
     "text": [
      "\u001b[1mPossible Positive Features in Given Data: ['advice', 'always', 'bring', 'call', 'come', 'even', 'friend', 'girl', 'girlfriend', 'give', 'good', 'grade', 'help', 'kid', 'know', 'let', 'life', 'listen', 'may', 'need', 'never', 'open', 'pretty', 'problem', 'relationship', 'see', 'similar', 'situation', 'struggle', 'stuff', 'talk', 'tell', 'think', 'time', 'trouble', 'well', 'work', 'dont', 'feel', 'lot', 'often', 'others', 'really', 'someone', 'sometimes', 'week']\u001b[0m\n"
     ]
    }
   ],
   "source": [
    "# get positive feature\n",
    "pos_feat = [k for k in ori_unflag_feat.keys() if k in ori_flag_feat.keys() and ori_unflag_feat[k] > ori_flag_feat[k]]\n",
    "pos_feat += [k for k in ori_unflag_feat.keys() if k not in ori_flag_feat.keys()]\n",
    "print('\\033[1m' + 'Possible Positive Features in Given Data: {}'.format(pos_feat) + '\\033[0m')"
   ]
  },
  {
   "cell_type": "code",
   "execution_count": 33,
   "id": "94efdd9d-3263-44dd-8716-6b77bdc7c96c",
   "metadata": {},
   "outputs": [
    {
     "name": "stdout",
     "output_type": "stream",
     "text": [
      "\u001b[1mPossible Neutral Features in Given Data: ['alone', 'anything', 'back', 'best', 'care', 'could', 'deal', 'describe', 'experience', 'face', 'find', 'get', 'gf', 'go', 'happen', 'helpful', 'issue', 'like', 'little', 'look', 'make', 'many', 'much', 'offer', 'one', 'people', 'person', 'personal', 'say', 'school', 'self', 'share', 'shit', 'simply', 'start', 'support', 'though', 'try', 'use', 'want', 'way', 'would', 'year']\u001b[0m\n"
     ]
    }
   ],
   "source": [
    "# get neutral feature\n",
    "neu_feat = [k for k in ori_unflag_feat.keys() if k in ori_flag_feat.keys() and ori_unflag_feat[k] <= ori_flag_feat[k]]\n",
    "print('\\033[1m' + 'Possible Neutral Features in Given Data: {}'.format(neu_feat) + '\\033[0m')"
   ]
  },
  {
   "cell_type": "code",
   "execution_count": 34,
   "id": "734cc857-40e9-4e74-b589-f6632dbafc24",
   "metadata": {},
   "outputs": [
    {
     "name": "stdout",
     "output_type": "stream",
     "text": [
      "\u001b[1mPossible Negative Features in Given Data: ['addiction', 'anxiety', 'comfort', 'depression', 'end', 'everything', 'kill', 'last', 'night', 'severe', 'suicide']\u001b[0m\n"
     ]
    }
   ],
   "source": [
    "# get negative feature\n",
    "neg_feat = [k for k in ori_flag_feat.keys() if k not in ori_unflag_feat.keys()]\n",
    "print('\\033[1m' + 'Possible Negative Features in Given Data: {}'.format(neg_feat) + '\\033[0m')"
   ]
  },
  {
   "cell_type": "code",
   "execution_count": 35,
   "id": "fcbafde1-113d-4062-8b43-5202c4ce5ebb",
   "metadata": {},
   "outputs": [
    {
     "data": {
      "text/plain": [
       "100"
      ]
     },
     "execution_count": 35,
     "metadata": {},
     "output_type": "execute_result"
    }
   ],
   "source": [
    "len(pos_feat)+len(neu_feat)+len(neg_feat)"
   ]
  },
  {
   "cell_type": "code",
   "execution_count": 36,
   "id": "71c18a21-8188-48a3-a80a-f17c3659dc1d",
   "metadata": {},
   "outputs": [
    {
     "data": {
      "text/plain": [
       "array([1., 1., 0., 0., 0., 0., 1., 0., 2., 0., 0., 0., 0., 0., 1., 1., 0.,\n",
       "       0., 0., 0., 0., 1., 0., 0., 2., 3., 1., 0., 0., 0., 0., 1., 0., 0.,\n",
       "       0., 3., 0., 1., 0., 0., 0., 0., 0., 0., 0., 2., 0., 0., 0., 0., 1.,\n",
       "       0., 0., 0., 0., 0., 4., 0., 1., 0., 0., 0., 1., 0., 0., 0., 0., 0.,\n",
       "       0., 0., 0., 0., 0., 2., 0., 0., 0., 1., 0., 0., 0., 0., 0., 1., 3.,\n",
       "       0., 0., 0., 0., 2., 0., 1., 0., 1., 1., 0., 0., 0., 0., 0.])"
      ]
     },
     "execution_count": 36,
     "metadata": {},
     "output_type": "execute_result"
    }
   ],
   "source": [
    "flag_txt = sum([test_vectors[i] for i in [0, 3, 4, 7, 8]])\n",
    "flag_txt"
   ]
  },
  {
   "cell_type": "markdown",
   "id": "05fb45b1-5425-4ade-a5d1-21c59eed363e",
   "metadata": {},
   "source": [
    "## Visualize Feature Occurance Distribution"
   ]
  },
  {
   "cell_type": "code",
   "execution_count": 37,
   "id": "d93d98a8-3033-432d-a089-1cf0296a6d7f",
   "metadata": {},
   "outputs": [
    {
     "name": "stdout",
     "output_type": "stream",
     "text": [
      "The first response in corpus has positive features: ['friend', 'situation', 'listen', 'help'],\n",
      "\t\t\t\t neutral features: ['find', 'want', 'try', 'offer', 'support'],\n",
      "\t\t\t\t negative features: ['suicide']\n",
      "The second response in corpus has positive features: ['friend', 'tell'],\n",
      "\t\t\t\t neutral features: ['school'],\n",
      "\t\t\t\t negative features: []\n",
      "The third response in corpus has positive features: ['never'],\n",
      "\t\t\t\t neutral features: [],\n",
      "\t\t\t\t negative features: []\n",
      "The fourth response in corpus has positive features: ['time', 'friend', 'listen', 'help'],\n",
      "\t\t\t\t neutral features: ['go', 'offer', 'support', 'many', 'person', 'find', 'way'],\n",
      "\t\t\t\t negative features: ['depression']\n",
      "The fifth response in corpus has positive features: ['friend', 'bring'],\n",
      "\t\t\t\t neutral features: ['offer', 'get'],\n",
      "\t\t\t\t negative features: []\n",
      "The sixth response in corpus has positive features: ['friend', 'tell', 'talk', 'good'],\n",
      "\t\t\t\t neutral features: ['year'],\n",
      "\t\t\t\t negative features: []\n",
      "The seventh response in corpus has positive features: ['listen', 'help', 'see', 'work', 'life'],\n",
      "\t\t\t\t neutral features: ['offer'],\n",
      "\t\t\t\t negative features: []\n",
      "The eighth response in corpus has positive features: ['bring'],\n",
      "\t\t\t\t neutral features: ['experience', 'one', 'support', 'share', 'back', 'offer'],\n",
      "\t\t\t\t negative features: []\n",
      "The ninth response in corpus has positive features: ['time', 'advice', 'help'],\n",
      "\t\t\t\t neutral features: ['deal', 'issue', 'share'],\n",
      "\t\t\t\t negative features: ['addiction']\n"
     ]
    }
   ],
   "source": [
    "cor_flag_feat = get_occurance(flag_txt)\n",
    "cor_flag_feat\n",
    "\n",
    "dic = []\n",
    "for i in range(m):\n",
    "    pos = []\n",
    "    neu = []\n",
    "    neg = []\n",
    "    \n",
    "    for w in test_txt[i].split():\n",
    "        if w in features:\n",
    "            if w in pos_feat:\n",
    "                pos.append(w)\n",
    "            elif w in neu_feat:\n",
    "                neu.append(w)\n",
    "            elif w in neg_feat:\n",
    "                neg.append(w)\n",
    "                \n",
    "    dic.append({'positive':pos, 'neutral':neu, 'negative':neg})\n",
    "\n",
    "lst = ['first', 'second', 'third', 'fourth', 'fifth', 'sixth', 'seventh', 'eighth', 'ninth']\n",
    "for i in range(len(lst)):\n",
    "    print('The {} response in corpus has positive features: {},\\n\\t\\t\\t\\t neutral features: {},\\n\\t\\t\\t\\t negative features: {}'\n",
    "          .format(lst[i], dic[i]['positive'], dic[i]['neutral'], dic[i]['negative']))"
   ]
  },
  {
   "cell_type": "code",
   "execution_count": 38,
   "id": "958592b2-0c44-4afa-8c82-39c15a431c70",
   "metadata": {},
   "outputs": [
    {
     "data": {
      "image/png": "[encoded data removed]",
      "text/plain": [
       "<Figure size 800x600 with 1 Axes>"
      ]
     },
     "metadata": {},
     "output_type": "display_data"
    }
   ],
   "source": [
    "for i in range(len(dic)):\n",
    "    dic[i]['positive'] = len(dic[i]['positive'])\n",
    "    dic[i]['neutral'] = len(dic[i]['neutral'])\n",
    "    dic[i]['negative'] = len(dic[i]['negative'])\n",
    "    \n",
    "new_dic = {}\n",
    "\n",
    "for i in range(len(dic)):\n",
    "    new_dic[lst[i]] = dic[i]\n",
    "    \n",
    "x = np.arange(1, len(lst)+1)\n",
    "df = pd.DataFrame(new_dic)\n",
    "colors = plt.cm.Pastel1(np.linspace(0, 2, 10))\n",
    "ax = df.T.plot(kind='bar', stacked=True, figsize=(8, 6), rot=0, xlabel='Response', ylabel='features', color=colors)\n",
    "\n",
    "for c in ax.containers:\n",
    "    labels = [v.get_height() if v.get_height() > 0 else '' for v in c]\n",
    "    ax.bar_label(c, labels=labels, label_type='center')\n",
    "\n",
    "ax.set_title('Feature Occurance Distribution in Corpus Response')\n",
    "ax.spines[['right', 'top']].set_visible(False)\n",
    "plt.show()"
   ]
  },
  {
   "cell_type": "code",
   "execution_count": 39,
   "id": "e00155ea-5a61-400a-95f2-de988da2c0c6",
   "metadata": {},
   "outputs": [
    {
     "data": {
      "text/plain": [
       "[1, 0, 0, 1, 1, 0, 0, 1, 1]"
      ]
     },
     "execution_count": 39,
     "metadata": {},
     "output_type": "execute_result"
    }
   ],
   "source": [
    "import personal_classifier as pc\n",
    "\n",
    "# implement personal_calssifier.py and predict\n",
    "clf = pc.ResponseClassifier()\n",
    "clf.train(data)\n",
    "clf.predict(corpus)"
   ]
  }
 ],
 "metadata": {
  "kernelspec": {
   "display_name": "Python 3 (ipykernel)",
   "language": "python",
   "name": "python3"
  },
  "language_info": {
   "codemirror_mode": {
    "name": "ipython",
    "version": 3
   },
   "file_extension": ".py",
   "mimetype": "text/x-python",
   "name": "python",
   "nbconvert_exporter": "python",
   "pygments_lexer": "ipython3",
   "version": "3.11.6"
  }
 },
 "nbformat": 4,
 "nbformat_minor": 5
}
