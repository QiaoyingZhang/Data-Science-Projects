{
 "cells": [
  {
   "cell_type": "code",
   "execution_count": null,
   "id": "65e0cfc8-31ff-42df-ba34-3906bed8528a",
   "metadata": {},
   "outputs": [],
   "source": []
  },
  {
   "cell_type": "markdown",
   "id": "8a43b2f2-21ca-4bb7-913c-7878119ca199",
   "metadata": {
    "tags": []
   },
   "source": [
    "## Classification Diagnostics"
   ]
  },
  {
   "cell_type": "markdown",
   "id": "81426bce-a7ba-4853-8d91-2176efb3eb27",
   "metadata": {
    "tags": []
   },
   "source": [
    "### True positives, False positives (etc.), and balanced error rate (BER)"
   ]
  },
  {
   "cell_type": "code",
   "execution_count": 23,
   "id": "0c6bd275-f2ab-4435-8d23-ff3afc47f17d",
   "metadata": {},
   "outputs": [],
   "source": [
    "# get list of outcomes [true positive, false positive, true negative, false negative]\n",
    "def get_outcomes(predictions, y):\n",
    "    r = []\n",
    "    \n",
    "    r.append(sum([(p and l) for (p,l) in zip(predictions, y)])) # TP\n",
    "    r.append(sum([(p and not l) for (p,l) in zip(predictions, y)])) # FP\n",
    "    r.append(sum([(not p and not l) for (p,l) in zip(predictions, y)])) # TN\n",
    "    r.append(sum([(not p and l) for (p,l) in zip(predictions, y)])) # FN\n",
    "\n",
    "    return r\n",
    "    \n",
    "# get list of true positive, true negative, and balanced error rates\n",
    "def get_rates(outcomes):\n",
    "    r = []\n",
    "    \n",
    "    r.append(outcomes[0] / (outcomes[0] + outcomes[3])) # TPR = TP / (TP + FN)\n",
    "    r.append(outcomes[2] / (outcomes[2] + outcomes[1])) # TNR = TN / (TN + FP)\n",
    "    r.append(1-1/2*(r[0] + r[1])) # BER = 1 - 1/2 * (TPR + TNR)\n",
    "    \n",
    "    return r"
   ]
  },
  {
   "cell_type": "markdown",
   "id": "dcaf7458-814e-4fb2-899d-d3ef91024c25",
   "metadata": {},
   "source": [
    "### Precision, recall, and F1 scores"
   ]
  },
  {
   "cell_type": "code",
   "execution_count": 24,
   "id": "2cf9302e-51aa-4d20-8315-2bc8d39b983a",
   "metadata": {
    "tags": []
   },
   "outputs": [],
   "source": [
    "# get list of precision, recall, and F1 score\n",
    "def get_scores(outcomes):\n",
    "    r = []\n",
    "    \n",
    "    r.append(outcomes[0] / (outcomes[0] + outcomes[1])) # precision = TP / (TP + FP)\n",
    "    r.append(outcomes[0] / (outcomes[0] + outcomes[3])) # recall = TP / (TP + FN)\n",
    "    print(r[0], r[1])\n",
    "    r.append(2*(r[0]*r[1])/(r[0]+r[1])) # F1 = 2 * (precision*recall) / (precision + recall)\n",
    "\n",
    "    return r"
   ]
  }
 ],
 "metadata": {
  "kernelspec": {
   "display_name": "Python 3 (ipykernel)",
   "language": "python",
   "name": "python3"
  },
  "language_info": {
   "codemirror_mode": {
    "name": "ipython",
    "version": 3
   },
   "file_extension": ".py",
   "mimetype": "text/x-python",
   "name": "python",
   "nbconvert_exporter": "python",
   "pygments_lexer": "ipython3",
   "version": "3.10.7"
  }
 },
 "nbformat": 4,
 "nbformat_minor": 5
}
